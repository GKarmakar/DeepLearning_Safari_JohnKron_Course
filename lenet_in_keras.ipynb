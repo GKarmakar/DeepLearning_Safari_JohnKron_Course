{
 "cells": [
  {
   "cell_type": "markdown",
   "metadata": {},
   "source": [
    "# Deep Convolutional Neural Network in Keras"
   ]
  },
  {
   "cell_type": "markdown",
   "metadata": {},
   "source": [
    "In this notebook, we build a deep, convolutional, MNIST-classifying network inspired by [LeNet-5](http://yann.lecun.com/exdb/publis/pdf/lecun-01a.pdf) and [this example code](https://github.com/fchollet/keras/blob/master/examples/mnist_cnn.py)."
   ]
  },
  {
   "cell_type": "markdown",
   "metadata": {},
   "source": [
    "#### Set seed for reproducibility"
   ]
  },
  {
   "cell_type": "code",
   "execution_count": 1,
   "metadata": {
    "collapsed": true
   },
   "outputs": [],
   "source": [
    "import numpy as np\n",
    "np.random.seed(42)"
   ]
  },
  {
   "cell_type": "markdown",
   "metadata": {},
   "source": [
    "#### Load dependencies"
   ]
  },
  {
   "cell_type": "code",
   "execution_count": 2,
   "metadata": {},
   "outputs": [
    {
     "name": "stderr",
     "output_type": "stream",
     "text": [
      "Using TensorFlow backend.\n"
     ]
    }
   ],
   "source": [
    "import keras\n",
    "from keras.datasets import mnist\n",
    "from keras.models import Sequential\n",
    "from keras.layers import Dense, Dropout\n",
    "from keras.layers import Flatten, Conv2D, MaxPooling2D # new!"
   ]
  },
  {
   "cell_type": "markdown",
   "metadata": {},
   "source": [
    "#### Load data"
   ]
  },
  {
   "cell_type": "code",
   "execution_count": 3,
   "metadata": {
    "collapsed": true
   },
   "outputs": [],
   "source": [
    "(X_train, y_train), (X_test, y_test) = mnist.load_data()"
   ]
  },
  {
   "cell_type": "markdown",
   "metadata": {},
   "source": [
    "#### Preprocess data"
   ]
  },
  {
   "cell_type": "code",
   "execution_count": 4,
   "metadata": {
    "collapsed": true
   },
   "outputs": [],
   "source": [
    "X_train = X_train.reshape(60000, 28, 28, 1).astype('float32')\n",
    "X_test = X_test.reshape(10000, 28, 28, 1).astype('float32')"
   ]
  },
  {
   "cell_type": "code",
   "execution_count": 5,
   "metadata": {
    "collapsed": true
   },
   "outputs": [],
   "source": [
    "X_train /= 255\n",
    "X_test /= 255"
   ]
  },
  {
   "cell_type": "code",
   "execution_count": 6,
   "metadata": {
    "collapsed": true
   },
   "outputs": [],
   "source": [
    "n_classes = 10\n",
    "y_train = keras.utils.to_categorical(y_train, n_classes)\n",
    "y_test = keras.utils.to_categorical(y_test, n_classes)"
   ]
  },
  {
   "cell_type": "markdown",
   "metadata": {},
   "source": [
    "#### Design neural network architecture"
   ]
  },
  {
   "cell_type": "code",
   "execution_count": 7,
   "metadata": {
    "collapsed": true
   },
   "outputs": [],
   "source": [
    "model = Sequential()\n",
    "model.add(Conv2D(32, kernel_size=(3, 3), activation='relu', input_shape=(28, 28, 1)))\n",
    "model.add(Conv2D(64, kernel_size=(3, 3), activation='relu'))\n",
    "model.add(MaxPooling2D(pool_size=(2, 2)))\n",
    "model.add(Dropout(0.25))\n",
    "model.add(Flatten())\n",
    "model.add(Dense(128, activation='relu'))\n",
    "model.add(Dropout(0.5))\n",
    "model.add(Dense(n_classes, activation='softmax'))"
   ]
  },
  {
   "cell_type": "code",
   "execution_count": 8,
   "metadata": {},
   "outputs": [
    {
     "name": "stdout",
     "output_type": "stream",
     "text": [
      "_________________________________________________________________\n",
      "Layer (type)                 Output Shape              Param #   \n",
      "=================================================================\n",
      "conv2d_1 (Conv2D)            (None, 26, 26, 32)        320       \n",
      "_________________________________________________________________\n",
      "conv2d_2 (Conv2D)            (None, 24, 24, 64)        18496     \n",
      "_________________________________________________________________\n",
      "max_pooling2d_1 (MaxPooling2 (None, 12, 12, 64)        0         \n",
      "_________________________________________________________________\n",
      "dropout_1 (Dropout)          (None, 12, 12, 64)        0         \n",
      "_________________________________________________________________\n",
      "flatten_1 (Flatten)          (None, 9216)              0         \n",
      "_________________________________________________________________\n",
      "dense_1 (Dense)              (None, 128)               1179776   \n",
      "_________________________________________________________________\n",
      "dropout_2 (Dropout)          (None, 128)               0         \n",
      "_________________________________________________________________\n",
      "dense_2 (Dense)              (None, 10)                1290      \n",
      "=================================================================\n",
      "Total params: 1,199,882\n",
      "Trainable params: 1,199,882\n",
      "Non-trainable params: 0\n",
      "_________________________________________________________________\n"
     ]
    }
   ],
   "source": [
    "model.summary()"
   ]
  },
  {
   "cell_type": "markdown",
   "metadata": {},
   "source": [
    "#### Configure model"
   ]
  },
  {
   "cell_type": "code",
   "execution_count": 8,
   "metadata": {
    "collapsed": true
   },
   "outputs": [],
   "source": [
    "model.compile(loss='categorical_crossentropy', optimizer='adam', metrics=['accuracy'])"
   ]
  },
  {
   "cell_type": "markdown",
   "metadata": {},
   "source": [
    "#### Train!"
   ]
  },
  {
   "cell_type": "code",
   "execution_count": 9,
   "metadata": {},
   "outputs": [
    {
     "name": "stdout",
     "output_type": "stream",
     "text": [
      "Train on 60000 samples, validate on 10000 samples\n",
      "Epoch 1/20\n",
      "60000/60000 [==============================] - 66s - loss: 0.2421 - acc: 0.9264 - val_loss: 0.0510 - val_acc: 0.9842\n",
      "Epoch 2/20\n",
      "60000/60000 [==============================] - 65s - loss: 0.0853 - acc: 0.9743 - val_loss: 0.0453 - val_acc: 0.9853\n",
      "Epoch 3/20\n",
      "60000/60000 [==============================] - 64s - loss: 0.0631 - acc: 0.9809 - val_loss: 0.0372 - val_acc: 0.9878\n",
      "Epoch 4/20\n",
      "60000/60000 [==============================] - 66s - loss: 0.0549 - acc: 0.9834 - val_loss: 0.0345 - val_acc: 0.9876\n",
      "Epoch 5/20\n",
      "60000/60000 [==============================] - 64s - loss: 0.0452 - acc: 0.9859 - val_loss: 0.0282 - val_acc: 0.9905\n",
      "Epoch 6/20\n",
      "60000/60000 [==============================] - 64s - loss: 0.0399 - acc: 0.9873 - val_loss: 0.0293 - val_acc: 0.9910\n",
      "Epoch 7/20\n",
      "60000/60000 [==============================] - 64s - loss: 0.0350 - acc: 0.9889 - val_loss: 0.0271 - val_acc: 0.9914\n",
      "Epoch 8/20\n",
      "60000/60000 [==============================] - 64s - loss: 0.0303 - acc: 0.9897 - val_loss: 0.0283 - val_acc: 0.9920\n",
      "Epoch 9/20\n",
      "60000/60000 [==============================] - 66s - loss: 0.0306 - acc: 0.9902 - val_loss: 0.0316 - val_acc: 0.9909\n",
      "Epoch 10/20\n",
      "60000/60000 [==============================] - 63s - loss: 0.0259 - acc: 0.9916 - val_loss: 0.0304 - val_acc: 0.9907\n",
      "Epoch 11/20\n",
      "60000/60000 [==============================] - 64s - loss: 0.0227 - acc: 0.9929 - val_loss: 0.0272 - val_acc: 0.9921\n",
      "Epoch 12/20\n",
      "60000/60000 [==============================] - 64s - loss: 0.0230 - acc: 0.9925 - val_loss: 0.0326 - val_acc: 0.9913\n",
      "Epoch 13/20\n",
      "60000/60000 [==============================] - 62s - loss: 0.0212 - acc: 0.9927 - val_loss: 0.0326 - val_acc: 0.9913\n",
      "Epoch 14/20\n",
      "60000/60000 [==============================] - 55s - loss: 0.0202 - acc: 0.9934 - val_loss: 0.0284 - val_acc: 0.9924\n",
      "Epoch 15/20\n",
      "60000/60000 [==============================] - 56s - loss: 0.0181 - acc: 0.9939 - val_loss: 0.0302 - val_acc: 0.9927\n",
      "Epoch 16/20\n",
      "60000/60000 [==============================] - 63s - loss: 0.0176 - acc: 0.9940 - val_loss: 0.0320 - val_acc: 0.9919\n",
      "Epoch 17/20\n",
      "60000/60000 [==============================] - 63s - loss: 0.0174 - acc: 0.9943 - val_loss: 0.0275 - val_acc: 0.9926\n",
      "Epoch 18/20\n",
      "60000/60000 [==============================] - 66s - loss: 0.0166 - acc: 0.9945 - val_loss: 0.0297 - val_acc: 0.9928\n",
      "Epoch 19/20\n",
      "60000/60000 [==============================] - 64s - loss: 0.0147 - acc: 0.9953 - val_loss: 0.0326 - val_acc: 0.9925\n",
      "Epoch 20/20\n",
      "60000/60000 [==============================] - 64s - loss: 0.0149 - acc: 0.9949 - val_loss: 0.0300 - val_acc: 0.9930\n"
     ]
    },
    {
     "data": {
      "text/plain": [
       "<keras.callbacks.History at 0x7fe7300490f0>"
      ]
     },
     "execution_count": 9,
     "metadata": {},
     "output_type": "execute_result"
    }
   ],
   "source": [
    "model.fit(X_train, y_train, batch_size=128, epochs=20, verbose=1, validation_data=(X_test, y_test))"
   ]
  },
  {
   "cell_type": "code",
   "execution_count": null,
   "metadata": {
    "collapsed": true
   },
   "outputs": [],
   "source": []
  }
 ],
 "metadata": {
  "kernelspec": {
   "display_name": "Python 3",
   "language": "python",
   "name": "python3"
  },
  "language_info": {
   "codemirror_mode": {
    "name": "ipython",
    "version": 3
   },
   "file_extension": ".py",
   "mimetype": "text/x-python",
   "name": "python",
   "nbconvert_exporter": "python",
   "pygments_lexer": "ipython3",
   "version": "3.5.2"
  }
 },
 "nbformat": 4,
 "nbformat_minor": 2
}
